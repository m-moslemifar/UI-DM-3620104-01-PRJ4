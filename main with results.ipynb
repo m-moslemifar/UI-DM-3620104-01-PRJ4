{
  "cells": [
    {
      "cell_type": "markdown",
      "metadata": {
        "collapsed": true,
        "pycharm": {
          "name": "#%% md\n"
        },
        "id": "YHWdpDRm2257"
      },
      "source": [
        "Load train and validate datasets and concatenate them to do preprocessing on whole data"
      ]
    },
    {
      "cell_type": "code",
      "execution_count": 4,
      "outputs": [
        {
          "output_type": "stream",
          "name": "stdout",
          "text": [
            "Requirement already satisfied: hazm in /usr/local/lib/python3.7/dist-packages (0.7.0)\n",
            "Requirement already satisfied: libwapiti>=0.2.1 in /usr/local/lib/python3.7/dist-packages (from hazm) (0.2.1)\n",
            "Requirement already satisfied: nltk==3.3 in /usr/local/lib/python3.7/dist-packages (from hazm) (3.3)\n",
            "Requirement already satisfied: six in /usr/local/lib/python3.7/dist-packages (from nltk==3.3->hazm) (1.15.0)\n"
          ]
        }
      ],
      "source": [
        "from __future__ import unicode_literals\n",
        "\n",
        "import string\n",
        "import numpy as np\n",
        "import pandas as pd\n",
        "!pip install hazm\n",
        "from hazm import *\n",
        "from gensim.models import Word2Vec\n",
        "import codecs\n",
        "from keras.models import Sequential\n",
        "from keras.preprocessing.sequence import pad_sequences\n",
        "from keras.layers import Dense, Embedding, LSTM, SpatialDropout1D, Bidirectional\n",
        "import matplotlib.pyplot as plt\n",
        "\n",
        "t = pd.read_csv('train.csv', delimiter='\\t', index_col=0)\n",
        "v = pd.read_csv('dev.csv', delimiter='\\t', index_col=0)\n",
        "train = t[['comment', 'label_id']].copy()\n",
        "validate = v[['comment', 'label_id']].copy()\n",
        "frames = [train, validate]\n",
        "data = pd.concat(frames, ignore_index=True)"
      ],
      "metadata": {
        "pycharm": {
          "name": "#%%\n"
        },
        "colab": {
          "base_uri": "https://localhost:8080/"
        },
        "id": "louH2qZ_226J",
        "outputId": "28d634b3-74ee-468a-fb0f-ec9fd8e19e87"
      }
    },
    {
      "cell_type": "markdown",
      "source": [
        "Convert all characters to lowercase"
      ],
      "metadata": {
        "collapsed": false,
        "pycharm": {
          "name": "#%% md\n"
        },
        "id": "QGYABabd226O"
      }
    },
    {
      "cell_type": "code",
      "execution_count": 5,
      "outputs": [],
      "source": [
        "data['comment'] = data['comment'].apply(lambda x: ' '.join(x.lower() for x in x.split()))"
      ],
      "metadata": {
        "pycharm": {
          "name": "#%%\n"
        },
        "id": "vXHiZaBx226Q"
      }
    },
    {
      "cell_type": "markdown",
      "source": [
        "Load stop words and delete stop words from dataset"
      ],
      "metadata": {
        "collapsed": false,
        "pycharm": {
          "name": "#%% md\n"
        },
        "id": "L7WJ6Vu2226T"
      }
    },
    {
      "cell_type": "code",
      "execution_count": 6,
      "outputs": [],
      "source": [
        "nmz = Normalizer()\n",
        "stops = sorted(\n",
        "    list(set([nmz.normalize(w) for w in codecs.open('stopwords.dat', encoding='utf-8').read().split('\\n') if w]))\n",
        ")\n",
        "\n",
        "data['comment'] = data['comment'].apply(lambda x: ' '.join(x for x in x.split() if x not in stops))"
      ],
      "metadata": {
        "pycharm": {
          "name": "#%%\n"
        },
        "id": "FTyD_Qvi226V"
      }
    },
    {
      "cell_type": "markdown",
      "source": [
        "Lemmatize words in dataset"
      ],
      "metadata": {
        "collapsed": false,
        "pycharm": {
          "name": "#%% md\n"
        },
        "id": "WEBELcvP226X"
      }
    },
    {
      "cell_type": "code",
      "execution_count": 7,
      "outputs": [],
      "source": [
        "lemmatizer = Lemmatizer()\n",
        "data['comment'] = data['comment'].apply(lambda x: ' '.join([lemmatizer.lemmatize(x) for x in x.split()]))"
      ],
      "metadata": {
        "pycharm": {
          "name": "#%%\n"
        },
        "id": "p6xNdaeb226Y"
      }
    },
    {
      "cell_type": "markdown",
      "source": [
        "Define an iterator to iterate through sentences and fit Word2Vector model on sentences to get word vectors and word indexes"
      ],
      "metadata": {
        "collapsed": false,
        "pycharm": {
          "name": "#%% md\n"
        },
        "id": "7a_eIcMT226a"
      }
    },
    {
      "cell_type": "code",
      "execution_count": 8,
      "outputs": [],
      "source": [
        "class SentenceIterator:\n",
        "    def __init__(self, dataset):\n",
        "        self.dataset = dataset\n",
        "\n",
        "    def __iter__(self):\n",
        "        for review in self.dataset.iloc[:, 0]:\n",
        "            for sentence in review.split('.')[:-1]:\n",
        "                words = [w for w in sentence.split(' ') if w != '']\n",
        "                yield words\n",
        "\n",
        "\n",
        "sentences = SentenceIterator(data)\n",
        "w2v_model = Word2Vec(sentences=sentences)\n",
        "w2v_model.train(sentences, epochs=10, total_examples=len(list(sentences)))\n",
        "w2v_weights = w2v_model.wv.vectors\n",
        "vocab_size, embedding_size = w2v_weights.shape"
      ],
      "metadata": {
        "pycharm": {
          "name": "#%%\n"
        },
        "id": "tldoim2W226b"
      }
    },
    {
      "cell_type": "markdown",
      "source": [
        "Tokenize words in each sentence to make sentences into integer sequences and define an iterator to iterate through sequences"
      ],
      "metadata": {
        "collapsed": false,
        "pycharm": {
          "name": "#%% md\n"
        },
        "id": "-e454H0O226d"
      }
    },
    {
      "cell_type": "code",
      "execution_count": 9,
      "outputs": [],
      "source": [
        "def word2token(word):\n",
        "    try:\n",
        "        return w2v_model.wv.vocab[word].index\n",
        "    # If word is not in index return 0. I realize this means that this\n",
        "    # is the same as the word of index 0 (i.e. most frequent word), but 0s\n",
        "    # will be padded later anyway by the embedding layer (which also\n",
        "    # seems dirty, but I couldn't find a better solution right now)\n",
        "    except KeyError:\n",
        "        return 0\n",
        "\n",
        "\n",
        "MAX_SEQUENCE_LENGTH = max([len(s) for s in list(sentences)])\n",
        "\n",
        "\n",
        "class SequenceIterator:\n",
        "    def __init__(self, dataset, seq_length):\n",
        "        self.dataset = dataset\n",
        "\n",
        "        self.translator = str.maketrans('', '', string.punctuation + '-')\n",
        "        self.sentiments, self.ccount = np.unique(dataset.label_id, return_counts=True)\n",
        "\n",
        "        self.seq_length = seq_length\n",
        "\n",
        "    def __iter__(self):\n",
        "        for comment, label_id in zip(self.dataset.iloc[:, 0], self.dataset.iloc[:, 1]):\n",
        "            words = np.array([word2token(w) for w in comment.split(' ')[:self.seq_length] if w != ''])\n",
        "\n",
        "            yield words, label_id\n",
        "\n",
        "\n",
        "sequences = SequenceIterator(data, MAX_SEQUENCE_LENGTH)"
      ],
      "metadata": {
        "pycharm": {
          "name": "#%%\n"
        },
        "id": "V7muzzlN226e"
      }
    },
    {
      "cell_type": "markdown",
      "source": [
        "Split dataset into X and Y and also train and validate datasets"
      ],
      "metadata": {
        "collapsed": false,
        "pycharm": {
          "name": "#%% md\n"
        },
        "id": "PHUhGgc4226g"
      }
    },
    {
      "cell_type": "code",
      "execution_count": 10,
      "outputs": [],
      "source": [
        "set_x = []\n",
        "set_y = []\n",
        "for w, l in sequences:\n",
        "    set_x.append(w)\n",
        "    set_y.append(l)\n",
        "\n",
        "set_x = pad_sequences(set_x, maxlen=MAX_SEQUENCE_LENGTH, padding='post')\n",
        "set_y = np.array(set_y)\n",
        "\n",
        "x = set_x[:56700]\n",
        "y = set_y[:56700]\n",
        "val_x = set_x[56700:]\n",
        "val_y = set_y[56700:]"
      ],
      "metadata": {
        "pycharm": {
          "name": "#%%\n"
        },
        "id": "HBC7aAEY226g"
      }
    },
    {
      "cell_type": "markdown",
      "source": [
        "Define the neural network model and add the appropriate layers, compile the model and print out the details"
      ],
      "metadata": {
        "collapsed": false,
        "pycharm": {
          "name": "#%% md\n"
        },
        "id": "EfeWcgns226i"
      }
    },
    {
      "cell_type": "code",
      "execution_count": 11,
      "outputs": [
        {
          "output_type": "stream",
          "name": "stdout",
          "text": [
            "Model: \"sequential\"\n",
            "_________________________________________________________________\n",
            " Layer (type)                Output Shape              Param #   \n",
            "=================================================================\n",
            " embedding (Embedding)       (None, 149, 100)          367700    \n",
            "                                                                 \n",
            " bidirectional (Bidirectiona  (None, 200)              160800    \n",
            " l)                                                              \n",
            "                                                                 \n",
            " dense (Dense)               (None, 1)                 201       \n",
            "                                                                 \n",
            "=================================================================\n",
            "Total params: 528,701\n",
            "Trainable params: 161,001\n",
            "Non-trainable params: 367,700\n",
            "_________________________________________________________________\n",
            "None\n"
          ]
        }
      ],
      "source": [
        "model = Sequential()\n",
        "model.add(Embedding(input_dim=vocab_size,\n",
        "                    output_dim=embedding_size,\n",
        "                    weights=[w2v_weights],\n",
        "                    input_length=MAX_SEQUENCE_LENGTH,\n",
        "                    mask_zero=True,\n",
        "                    trainable=False))\n",
        "model.add(Bidirectional(LSTM(100)))\n",
        "model.add(Dense(1, activation='sigmoid'))\n",
        "model.compile(loss='binary_crossentropy', optimizer='adam', metrics=['accuracy'])\n",
        "print(model.summary())"
      ],
      "metadata": {
        "pycharm": {
          "name": "#%%\n"
        },
        "colab": {
          "base_uri": "https://localhost:8080/"
        },
        "id": "PwuoTqlS226i",
        "outputId": "51bf1d21-4a26-40f4-b7c7-bf5e6990b489"
      }
    },
    {
      "cell_type": "markdown",
      "source": [
        "Fit the model on the train dataset and validate them against the validate dataset"
      ],
      "metadata": {
        "collapsed": false,
        "pycharm": {
          "name": "#%% md\n"
        },
        "id": "UZu8EIiL226j"
      }
    },
    {
      "cell_type": "code",
      "execution_count": 12,
      "outputs": [
        {
          "output_type": "stream",
          "name": "stdout",
          "text": [
            "Epoch 1/5\n",
            "1772/1772 [==============================] - 533s 290ms/step - loss: 0.3960 - accuracy: 0.8233 - val_loss: 0.3866 - val_accuracy: 0.8271\n",
            "Epoch 2/5\n",
            "1772/1772 [==============================] - 500s 282ms/step - loss: 0.3721 - accuracy: 0.8353 - val_loss: 0.3793 - val_accuracy: 0.8265\n",
            "Epoch 3/5\n",
            "1772/1772 [==============================] - 494s 279ms/step - loss: 0.3579 - accuracy: 0.8410 - val_loss: 0.3798 - val_accuracy: 0.8330\n",
            "Epoch 4/5\n",
            "1772/1772 [==============================] - 495s 279ms/step - loss: 0.3416 - accuracy: 0.8500 - val_loss: 0.3793 - val_accuracy: 0.8317\n",
            "Epoch 5/5\n",
            "1772/1772 [==============================] - 492s 278ms/step - loss: 0.3215 - accuracy: 0.8603 - val_loss: 0.3896 - val_accuracy: 0.8294\n"
          ]
        }
      ],
      "source": [
        "history = model.fit(x, y, epochs=5, batch_size=32,\n",
        "                    validation_data=(val_x, val_y), verbose=1)"
      ],
      "metadata": {
        "pycharm": {
          "name": "#%%\n"
        },
        "colab": {
          "base_uri": "https://localhost:8080/"
        },
        "id": "4KapPoW1226j",
        "outputId": "74ecf571-35ca-4dc9-c39e-ecd622648abd"
      }
    },
    {
      "cell_type": "markdown",
      "source": [
        "Plot train and validation loss and train and validation accuracy through epochs"
      ],
      "metadata": {
        "collapsed": false,
        "pycharm": {
          "name": "#%% md\n"
        },
        "id": "Z8s8c6_1226k"
      }
    },
    {
      "cell_type": "code",
      "execution_count": 13,
      "outputs": [
        {
          "output_type": "display_data",
          "data": {
            "image/png": "[encoded data removed]",
            "text/plain": [
              "<Figure size 864x864 with 1 Axes>"
            ]
          },
          "metadata": {
            "needs_background": "light"
          }
        },
        {
          "output_type": "display_data",
          "data": {
            "image/png": "[encoded data removed]",
            "text/plain": [
              "<Figure size 864x864 with 1 Axes>"
            ]
          },
          "metadata": {
            "needs_background": "light"
          }
        }
      ],
      "source": [
        "plt.figure(figsize=(12, 12))\n",
        "plt.plot(history.history['loss'])\n",
        "plt.plot(history.history['val_loss'])\n",
        "plt.title('Loss')\n",
        "plt.legend(['train', 'val'], loc='upper left')\n",
        "plt.show()\n",
        "\n",
        "plt.figure(figsize=(12, 12))\n",
        "plt.plot(history.history['accuracy'])\n",
        "plt.plot(history.history['val_accuracy'])\n",
        "plt.title('Accuracy')\n",
        "plt.legend(['train', 'val'], loc='upper left')\n",
        "plt.show()"
      ],
      "metadata": {
        "pycharm": {
          "name": "#%%\n"
        },
        "colab": {
          "base_uri": "https://localhost:8080/",
          "height": 1000
        },
        "id": "vo8y2caw226k",
        "outputId": "5587aa81-f6a7-4bc6-a5f5-855be84cf800"
      }
    },
    {
      "cell_type": "markdown",
      "source": [
        "Predict sentiments using the model and print out the similarity between predicted sentiments and true sentiments"
      ],
      "metadata": {
        "collapsed": false,
        "pycharm": {
          "name": "#%% md\n"
        },
        "id": "Mk2K4oSW226l"
      }
    },
    {
      "cell_type": "code",
      "execution_count": 14,
      "outputs": [
        {
          "output_type": "stream",
          "name": "stdout",
          "text": [
            "Train dataset predictions similarity to source: 0.8772663139329806\n",
            "Validate dataset predictions similarity to source: 0.8293650793650794\n"
          ]
        }
      ],
      "source": [
        "train_predictions = model.predict(x).tolist()\n",
        "validate_predictions = model.predict(val_x).tolist()\n",
        "train_predictions = list(map(lambda x: 0 if x[0] < 0.5 else 1, train_predictions))\n",
        "validate_predictions = list(map(lambda x: 0 if x[0] < 0.5 else 1, validate_predictions))\n",
        "train_standard = train['label_id'].tolist()\n",
        "validate_standard = validate['label_id'].tolist()\n",
        "\n",
        "train_identical = 0\n",
        "train_length = min([len(train_predictions), len(train_standard)])\n",
        "for i in range(train_length):\n",
        "    if train_standard[i] == train_predictions[i]:\n",
        "        train_identical += 1\n",
        "print('Train dataset predictions similarity to source: ' + str(train_identical / train_length))\n",
        "\n",
        "validate_identical = 0\n",
        "validate_length = min([len(validate_predictions), len(validate_standard)])\n",
        "for i in range(validate_length):\n",
        "    if validate_standard[i] == validate_predictions[i]:\n",
        "        validate_identical += 1\n",
        "print('Validate dataset predictions similarity to source: ' + str(validate_identical / validate_length))"
      ],
      "metadata": {
        "pycharm": {
          "name": "#%%\n"
        },
        "colab": {
          "base_uri": "https://localhost:8080/"
        },
        "id": "h3Ydg2fU226m",
        "outputId": "b5b383bd-6fd5-493f-8558-c85742e2b945"
      }
    }
  ],
  "metadata": {
    "kernelspec": {
      "display_name": "Python 3",
      "language": "python",
      "name": "python3"
    },
    "language_info": {
      "codemirror_mode": {
        "name": "ipython",
        "version": 2
      },
      "file_extension": ".py",
      "mimetype": "text/x-python",
      "name": "python",
      "nbconvert_exporter": "python",
      "pygments_lexer": "ipython2",
      "version": "2.7.6"
    },
    "colab": {
      "name": "main.ipynb",
      "provenance": [],
      "collapsed_sections": []
    }
  },
  "nbformat": 4,
  "nbformat_minor": 0
}