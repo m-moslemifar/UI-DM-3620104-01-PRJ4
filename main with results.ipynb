{
 "cells": [
  {
   "cell_type": "markdown",
   "metadata": {
    "collapsed": true,
    "pycharm": {
     "name": "#%% md\n"
    },
    "id": "YHWdpDRm2257"
   },
   "source": [
    "Load train and validate datasets and concatenate them to do preprocessing on whole data"
   ]
  },
  {
   "cell_type": "code",
   "execution_count": 17,
   "outputs": [
    {
     "output_type": "stream",
     "name": "stdout",
     "text": [
      "Requirement already satisfied: hazm in /usr/local/lib/python3.7/dist-packages (0.7.0)\n",
      "Requirement already satisfied: nltk==3.3 in /usr/local/lib/python3.7/dist-packages (from hazm) (3.3)\n",
      "Requirement already satisfied: libwapiti>=0.2.1 in /usr/local/lib/python3.7/dist-packages (from hazm) (0.2.1)\n",
      "Requirement already satisfied: six in /usr/local/lib/python3.7/dist-packages (from nltk==3.3->hazm) (1.15.0)\n",
      "Requirement already satisfied: tensorflow-addons in /usr/local/lib/python3.7/dist-packages (0.15.0)\n",
      "Requirement already satisfied: typeguard>=2.7 in /usr/local/lib/python3.7/dist-packages (from tensorflow-addons) (2.7.1)\n"
     ]
    }
   ],
   "source": [
    "from __future__ import unicode_literals\n",
    "\n",
    "import string\n",
    "import numpy as np\n",
    "import pandas as pd\n",
    "!pip install hazm\n",
    "from hazm import *\n",
    "from gensim.models import Word2Vec\n",
    "import codecs\n",
    "from keras.models import Sequential\n",
    "from keras.preprocessing.sequence import pad_sequences\n",
    "from keras.layers import Dense, Embedding, LSTM, SpatialDropout1D, Bidirectional\n",
    "import matplotlib.pyplot as plt\n",
    "!pip install tensorflow-addons\n",
    "import tensorflow_addons as tfa\n",
    "\n",
    "t = pd.read_csv('train.csv', delimiter='\\t', index_col=0)\n",
    "v = pd.read_csv('dev.csv', delimiter='\\t', index_col=0)\n",
    "train = t[['comment', 'label_id']].copy()\n",
    "validate = v[['comment', 'label_id']].copy()\n",
    "frames = [train, validate]\n",
    "data = pd.concat(frames, ignore_index=True)"
   ],
   "metadata": {
    "pycharm": {
     "name": "#%%\n"
    },
    "colab": {
     "base_uri": "https://localhost:8080/"
    },
    "id": "louH2qZ_226J",
    "outputId": "be3c7f45-b22e-4d23-8cbf-9b4d162713af"
   }
  },
  {
   "cell_type": "markdown",
   "source": [
    "Convert all characters to lowercase"
   ],
   "metadata": {
    "collapsed": false,
    "pycharm": {
     "name": "#%% md\n"
    },
    "id": "QGYABabd226O"
   }
  },
  {
   "cell_type": "code",
   "execution_count": 18,
   "outputs": [],
   "source": [
    "data['comment'] = data['comment'].apply(lambda x: ' '.join(x.lower() for x in x.split()))"
   ],
   "metadata": {
    "pycharm": {
     "name": "#%%\n"
    },
    "id": "vXHiZaBx226Q"
   }
  },
  {
   "cell_type": "markdown",
   "source": [
    "Load stop words and delete stop words from dataset"
   ],
   "metadata": {
    "collapsed": false,
    "pycharm": {
     "name": "#%% md\n"
    },
    "id": "L7WJ6Vu2226T"
   }
  },
  {
   "cell_type": "code",
   "execution_count": 19,
   "outputs": [],
   "source": [
    "nmz = Normalizer()\n",
    "stops = sorted(\n",
    "    list(set([nmz.normalize(w) for w in codecs.open('stopwords.dat', encoding='utf-8').read().split('\\n') if w]))\n",
    ")\n",
    "\n",
    "data['comment'] = data['comment'].apply(lambda x: ' '.join(x for x in x.split() if x not in stops))"
   ],
   "metadata": {
    "pycharm": {
     "name": "#%%\n"
    },
    "id": "FTyD_Qvi226V"
   }
  },
  {
   "cell_type": "markdown",
   "source": [
    "Lemmatize words in dataset"
   ],
   "metadata": {
    "collapsed": false,
    "pycharm": {
     "name": "#%% md\n"
    },
    "id": "WEBELcvP226X"
   }
  },
  {
   "cell_type": "code",
   "execution_count": 20,
   "outputs": [],
   "source": [
    "lemmatizer = Lemmatizer()\n",
    "data['comment'] = data['comment'].apply(lambda x: ' '.join([lemmatizer.lemmatize(x) for x in x.split()]))"
   ],
   "metadata": {
    "pycharm": {
     "name": "#%%\n"
    },
    "id": "p6xNdaeb226Y"
   }
  },
  {
   "cell_type": "markdown",
   "source": [
    "Define an iterator to iterate through sentences and fit Word2Vector model on sentences to get word vectors and word indexes"
   ],
   "metadata": {
    "collapsed": false,
    "pycharm": {
     "name": "#%% md\n"
    },
    "id": "7a_eIcMT226a"
   }
  },
  {
   "cell_type": "code",
   "execution_count": 21,
   "outputs": [],
   "source": [
    "class SentenceIterator:\n",
    "    def __init__(self, dataset):\n",
    "        self.dataset = dataset\n",
    "\n",
    "    def __iter__(self):\n",
    "        for review in self.dataset.iloc[:, 0]:\n",
    "            for sentence in review.split('.')[:-1]:\n",
    "                words = [w for w in sentence.split(' ') if w != '']\n",
    "                yield words\n",
    "\n",
    "\n",
    "sentences = SentenceIterator(data)\n",
    "w2v_model = Word2Vec(sentences=sentences)\n",
    "w2v_model.train(sentences, epochs=10, total_examples=len(list(sentences)))\n",
    "w2v_weights = w2v_model.wv.vectors\n",
    "vocab_size, embedding_size = w2v_weights.shape"
   ],
   "metadata": {
    "pycharm": {
     "name": "#%%\n"
    },
    "id": "tldoim2W226b"
   }
  },
  {
   "cell_type": "markdown",
   "source": [
    "Tokenize words in each sentence to make sentences into integer sequences and define an iterator to iterate through sequences"
   ],
   "metadata": {
    "collapsed": false,
    "pycharm": {
     "name": "#%% md\n"
    },
    "id": "-e454H0O226d"
   }
  },
  {
   "cell_type": "code",
   "execution_count": 22,
   "outputs": [],
   "source": [
    "def word2token(word):\n",
    "    try:\n",
    "        return w2v_model.wv.vocab[word].index\n",
    "    # If word is not in index return 0. I realize this means that this\n",
    "    # is the same as the word of index 0 (i.e. most frequent word), but 0s\n",
    "    # will be padded later anyway by the embedding layer (which also\n",
    "    # seems dirty, but I couldn't find a better solution right now)\n",
    "    except KeyError:\n",
    "        return 0\n",
    "\n",
    "\n",
    "MAX_SEQUENCE_LENGTH = max([len(s) for s in list(sentences)])\n",
    "\n",
    "\n",
    "class SequenceIterator:\n",
    "    def __init__(self, dataset, seq_length):\n",
    "        self.dataset = dataset\n",
    "\n",
    "        self.translator = str.maketrans('', '', string.punctuation + '-')\n",
    "        self.sentiments, self.ccount = np.unique(dataset.label_id, return_counts=True)\n",
    "\n",
    "        self.seq_length = seq_length\n",
    "\n",
    "    def __iter__(self):\n",
    "        for comment, label_id in zip(self.dataset.iloc[:, 0], self.dataset.iloc[:, 1]):\n",
    "            words = np.array([word2token(w) for w in comment.split(' ')[:self.seq_length] if w != ''])\n",
    "\n",
    "            yield words, label_id\n",
    "\n",
    "\n",
    "sequences = SequenceIterator(data, MAX_SEQUENCE_LENGTH)"
   ],
   "metadata": {
    "pycharm": {
     "name": "#%%\n"
    },
    "id": "V7muzzlN226e"
   }
  },
  {
   "cell_type": "markdown",
   "source": [
    "Split dataset into X and Y and also train and validate datasets"
   ],
   "metadata": {
    "collapsed": false,
    "pycharm": {
     "name": "#%% md\n"
    },
    "id": "PHUhGgc4226g"
   }
  },
  {
   "cell_type": "code",
   "execution_count": 23,
   "outputs": [],
   "source": [
    "set_x = []\n",
    "set_y = []\n",
    "for w, l in sequences:\n",
    "    set_x.append(w)\n",
    "    set_y.append(l)\n",
    "\n",
    "set_x = pad_sequences(set_x, maxlen=MAX_SEQUENCE_LENGTH, padding='post')\n",
    "set_y = np.array(set_y)\n",
    "\n",
    "x = set_x[:56700]\n",
    "y = set_y[:56700]\n",
    "val_x = set_x[56700:]\n",
    "val_y = set_y[56700:]"
   ],
   "metadata": {
    "pycharm": {
     "name": "#%%\n"
    },
    "id": "HBC7aAEY226g"
   }
  },
  {
   "cell_type": "markdown",
   "source": [
    "Define the neural network model and add the appropriate layers, compile the model and print out the details"
   ],
   "metadata": {
    "collapsed": false,
    "pycharm": {
     "name": "#%% md\n"
    },
    "id": "EfeWcgns226i"
   }
  },
  {
   "cell_type": "code",
   "execution_count": 24,
   "outputs": [
    {
     "output_type": "stream",
     "name": "stdout",
     "text": [
      "Model: \"sequential_1\"\n",
      "_________________________________________________________________\n",
      " Layer (type)                Output Shape              Param #   \n",
      "=================================================================\n",
      " embedding_1 (Embedding)     (None, 149, 100)          367700    \n",
      "                                                                 \n",
      " bidirectional_1 (Bidirectio  (None, 200)              160800    \n",
      " nal)                                                            \n",
      "                                                                 \n",
      " dense_1 (Dense)             (None, 1)                 201       \n",
      "                                                                 \n",
      "=================================================================\n",
      "Total params: 528,701\n",
      "Trainable params: 161,001\n",
      "Non-trainable params: 367,700\n",
      "_________________________________________________________________\n",
      "None\n"
     ]
    }
   ],
   "source": [
    "model = Sequential()\n",
    "model.add(Embedding(input_dim=vocab_size,\n",
    "                    output_dim=embedding_size,\n",
    "                    weights=[w2v_weights],\n",
    "                    input_length=MAX_SEQUENCE_LENGTH,\n",
    "                    mask_zero=True,\n",
    "                    trainable=False))\n",
    "model.add(Bidirectional(LSTM(100)))\n",
    "model.add(Dense(1, activation='sigmoid'))\n",
    "model.compile(loss='binary_crossentropy', optimizer='adam', metrics=['accuracy'])\n",
    "print(model.summary())"
   ],
   "metadata": {
    "pycharm": {
     "name": "#%%\n"
    },
    "colab": {
     "base_uri": "https://localhost:8080/"
    },
    "id": "PwuoTqlS226i",
    "outputId": "916887ae-b0b6-437f-a610-5709138c15dd"
   }
  },
  {
   "cell_type": "markdown",
   "source": [
    "Fit the model on the train dataset and validate them against the validate dataset"
   ],
   "metadata": {
    "collapsed": false,
    "pycharm": {
     "name": "#%% md\n"
    },
    "id": "UZu8EIiL226j"
   }
  },
  {
   "cell_type": "code",
   "execution_count": 25,
   "outputs": [
    {
     "output_type": "stream",
     "name": "stdout",
     "text": [
      "Epoch 1/10\n",
      "1772/1772 [==============================] - 515s 286ms/step - loss: 0.3963 - accuracy: 0.8229 - val_loss: 0.3887 - val_accuracy: 0.8273\n",
      "Epoch 2/10\n",
      "1772/1772 [==============================] - 504s 284ms/step - loss: 0.3730 - accuracy: 0.8348 - val_loss: 0.3816 - val_accuracy: 0.8324\n",
      "Epoch 3/10\n",
      "1772/1772 [==============================] - 502s 283ms/step - loss: 0.3587 - accuracy: 0.8410 - val_loss: 0.3788 - val_accuracy: 0.8289\n",
      "Epoch 4/10\n",
      "1772/1772 [==============================] - 503s 284ms/step - loss: 0.3417 - accuracy: 0.8491 - val_loss: 0.3781 - val_accuracy: 0.8338\n",
      "Epoch 5/10\n",
      "1772/1772 [==============================] - 503s 284ms/step - loss: 0.3217 - accuracy: 0.8590 - val_loss: 0.3872 - val_accuracy: 0.8325\n",
      "Epoch 6/10\n",
      "1772/1772 [==============================] - 507s 286ms/step - loss: 0.2969 - accuracy: 0.8710 - val_loss: 0.4041 - val_accuracy: 0.8259\n",
      "Epoch 7/10\n",
      "1772/1772 [==============================] - 518s 292ms/step - loss: 0.2678 - accuracy: 0.8857 - val_loss: 0.4238 - val_accuracy: 0.8257\n",
      "Epoch 8/10\n",
      "1772/1772 [==============================] - 511s 289ms/step - loss: 0.2361 - accuracy: 0.9001 - val_loss: 0.4564 - val_accuracy: 0.8238\n",
      "Epoch 9/10\n",
      "1772/1772 [==============================] - 508s 287ms/step - loss: 0.2042 - accuracy: 0.9156 - val_loss: 0.4965 - val_accuracy: 0.8094\n",
      "Epoch 10/10\n",
      "1772/1772 [==============================] - 506s 286ms/step - loss: 0.1744 - accuracy: 0.9306 - val_loss: 0.5438 - val_accuracy: 0.8083\n"
     ]
    }
   ],
   "source": [
    "history = model.fit(x, y, epochs=10, batch_size=32,\n",
    "                    validation_data=(val_x, val_y), verbose=1)"
   ],
   "metadata": {
    "pycharm": {
     "name": "#%%\n"
    },
    "colab": {
     "base_uri": "https://localhost:8080/"
    },
    "id": "4KapPoW1226j",
    "outputId": "98940910-5aa2-4cfb-dd55-cca9ff038c3d"
   }
  },
  {
   "cell_type": "markdown",
   "source": [
    "Plot train and validation loss and train and validation accuracy through epochs"
   ],
   "metadata": {
    "collapsed": false,
    "pycharm": {
     "name": "#%% md\n"
    },
    "id": "Z8s8c6_1226k"
   }
  },
  {
   "cell_type": "code",
   "execution_count": 26,
   "outputs": [
    {
     "output_type": "display_data",
     "data": {
      "image/png": "[encoded data removed]",
      "text/plain": [
       "<Figure size 864x864 with 1 Axes>"
      ]
     },
     "metadata": {
      "needs_background": "light"
     }
    },
    {
     "output_type": "display_data",
     "data": {
      "image/png": "[encoded data removed]",
      "text/plain": [
       "<Figure size 864x864 with 1 Axes>"
      ]
     },
     "metadata": {
      "needs_background": "light"
     }
    }
   ],
   "source": [
    "plt.figure(figsize=(12, 12))\n",
    "plt.plot(history.history['loss'])\n",
    "plt.plot(history.history['val_loss'])\n",
    "plt.title('Loss')\n",
    "plt.legend(['train', 'val'], loc='upper left')\n",
    "plt.show()\n",
    "\n",
    "plt.figure(figsize=(12, 12))\n",
    "plt.plot(history.history['accuracy'])\n",
    "plt.plot(history.history['val_accuracy'])\n",
    "plt.title('Accuracy')\n",
    "plt.legend(['train', 'val'], loc='upper left')\n",
    "plt.show()"
   ],
   "metadata": {
    "pycharm": {
     "name": "#%%\n"
    },
    "colab": {
     "base_uri": "https://localhost:8080/",
     "height": 1000
    },
    "id": "vo8y2caw226k",
    "outputId": "1587f7fe-8668-4ec0-f506-1b7b9fb2b71e"
   }
  },
  {
   "cell_type": "markdown",
   "source": [
    "Predict sentiments using the model and print out the similarity between predicted sentiments and true sentiments"
   ],
   "metadata": {
    "collapsed": false,
    "pycharm": {
     "name": "#%% md\n"
    },
    "id": "Mk2K4oSW226l"
   }
  },
  {
   "cell_type": "code",
   "execution_count": 27,
   "outputs": [
    {
     "output_type": "stream",
     "name": "stdout",
     "text": [
      "F1 score of train set predictions: [0.9470018]\n",
      "F1 score of validation set predictions: [0.80916274]\n"
     ]
    }
   ],
   "source": [
    "train_predictions = model.predict(x).tolist()\n",
    "validate_predictions = model.predict(val_x).tolist()\n",
    "train_standard = []\n",
    "for i in train['label_id'].tolist():\n",
    "    train_standard.append([i])\n",
    "validate_standard = []\n",
    "for i in validate['label_id'].tolist():\n",
    "    validate_standard.append([i])\n",
    "\n",
    "train_metric = tfa.metrics.F1Score(num_classes=1, threshold=0.5)\n",
    "train_standard = np.array(train_standard[:56700], np.int64)\n",
    "train_predictions = np.array(train_predictions[:56700], np.float64)\n",
    "train_metric.update_state(train_standard, train_predictions)\n",
    "train_result = train_metric.result()\n",
    "print('F1 score of train set predictions: ' + str(train_result.numpy()))\n",
    "\n",
    "validate_metric = tfa.metrics.F1Score(num_classes=1, threshold=0.5)\n",
    "validate_standard = np.array(validate_standard[:6300], np.int64)\n",
    "validate_predictions = np.array(validate_predictions[:6300], np.float64)\n",
    "validate_metric.update_state(validate_standard, validate_predictions)\n",
    "validate_result = validate_metric.result()\n",
    "print('F1 score of validation set predictions: ' + str(validate_result.numpy()))"
   ],
   "metadata": {
    "pycharm": {
     "name": "#%%\n"
    },
    "colab": {
     "base_uri": "https://localhost:8080/"
    },
    "id": "h3Ydg2fU226m",
    "outputId": "2e4a4f82-7cdf-4878-8f4e-95f290389211"
   }
  }
 ],
 "metadata": {
  "kernelspec": {
   "display_name": "Python 3",
   "language": "python",
   "name": "python3"
  },
  "language_info": {
   "codemirror_mode": {
    "name": "ipython",
    "version": 2
   },
   "file_extension": ".py",
   "mimetype": "text/x-python",
   "name": "python",
   "nbconvert_exporter": "python",
   "pygments_lexer": "ipython2",
   "version": "2.7.6"
  },
  "colab": {
   "name": "main.ipynb",
   "provenance": [],
   "collapsed_sections": []
  }
 },
 "nbformat": 4,
 "nbformat_minor": 0
}